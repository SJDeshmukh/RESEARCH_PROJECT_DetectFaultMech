{
 "cells": [
  {
   "cell_type": "code",
   "execution_count": null,
   "id": "c3f78716",
   "metadata": {},
   "outputs": [],
   "source": [
    "import cv2\n",
    "import numpy as np\n",
    "import time\n",
    "\n",
    "# Create a video capture object\n",
    "cap = cv2.VideoCapture(0)\n",
    "\n",
    "# Start capturing frames\n",
    "while True:\n",
    "    # Capture a frame\n",
    "    ret, frame = cap.read()\n",
    "\n",
    "    # If the frame was successfully captured\n",
    "    if ret:\n",
    "        # Start the timer\n",
    "        start_time = time.time()\n",
    "\n",
    "        # Convert the frame to a CUDA-accelerated GpuMat object\n",
    "        gpu_frame = cv2.cuda_GpuMat()\n",
    "        gpu_frame.upload(frame)\n",
    "\n",
    "        # Convert the frame to grayscale using the GPU\n",
    "        gpu_gray = cv2.cuda.cvtColor(gpu_frame, cv2.COLOR_BGR2GRAY)\n",
    "\n",
    "        # Apply a Gaussian blur to the frame using the GPU\n",
    "        gpu_blur = cv2.cuda.GpuMat()\n",
    "        cv2.cuda.GaussianBlur(gpu_gray, (5, 5), 0, gpu_blur)\n",
    "\n",
    "        # Apply a Canny edge detection to the frame using the GPU\n",
    "        gpu_edges = cv2.cuda.Canny(gpu_blur, 100, 200)\n",
    "\n",
    "        # Convert the edges to BGR format using the GPU\n",
    "        gpu_bgr = cv2.cuda.cvtColor(gpu_edges, cv2.COLOR_GRAY2BGR)\n",
    "\n",
    "        # Download the processed frame from the GPU to the CPU\n",
    "        processed_frame = gpu_bgr.download()\n",
    "\n",
    "        # Calculate the elapsed time\n",
    "        elapsed_time = time.time() - start_time\n",
    "\n",
    "        # Display the processed frame and the elapsed time\n",
    "        cv2.imshow('Processed Frame', processed_frame)\n",
    "        print('Elapsed Time:', elapsed_time)\n",
    "\n",
    "    # If there was an error capturing the frame\n",
    "    else:\n",
    "        break\n",
    "\n",
    "    # Exit the loop if the 'q' key is pressed\n",
    "    if cv2.waitKey(1) & 0xFF == ord('q'):\n",
    "        break\n",
    "\n",
    "# Release the video capture object and close all windows\n",
    "cap.release()\n",
    "cv2.destroyAllWindows()\n"
   ]
  },
  {
   "cell_type": "code",
   "execution_count": 1,
   "id": "a0d30f0f",
   "metadata": {},
   "outputs": [
    {
     "name": "stdout",
     "output_type": "stream",
     "text": [
      "CUDA is not available\n"
     ]
    }
   ],
   "source": [
    "import cv2\n",
    "\n",
    "# check if CUDA is available\n",
    "if cv2.cuda.getCudaEnabledDeviceCount() > 0:\n",
    "    print(\"CUDA is available\")\n",
    "else:\n",
    "    print(\"CUDA is not available\")\n"
   ]
  },
  {
   "cell_type": "code",
   "execution_count": null,
   "id": "8cd30e55",
   "metadata": {},
   "outputs": [],
   "source": []
  }
 ],
 "metadata": {
  "kernelspec": {
   "display_name": "Python 3",
   "language": "python",
   "name": "python3"
  },
  "language_info": {
   "codemirror_mode": {
    "name": "ipython",
    "version": 3
   },
   "file_extension": ".py",
   "mimetype": "text/x-python",
   "name": "python",
   "nbconvert_exporter": "python",
   "pygments_lexer": "ipython3",
   "version": "3.8.8"
  }
 },
 "nbformat": 4,
 "nbformat_minor": 5
}
