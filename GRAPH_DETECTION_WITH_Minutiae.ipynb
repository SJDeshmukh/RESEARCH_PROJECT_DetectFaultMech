{
 "cells": [
  {
   "cell_type": "code",
   "execution_count": null,
   "id": "ac2d3dff",
   "metadata": {},
   "outputs": [],
   "source": [
    "from sklearn.linear_model import LogisticRegression\n",
    "from sklearn.datasets import make_blobs\n",
    "# generate 2d classification dataset\n",
    "X, y = make_blobs(n_samples=100, centers=2, n_features=2, random_state=1)\n",
    "# fit final model\n",
    "model = LogisticRegression()\n",
    "model.fit(X, y)\n",
    "# new instances where we do not know the answer\n",
    "Xnew, _ = make_blobs(n_samples=3, centers=2, n_features=2, random_state=1)\n",
    "# make a prediction\n",
    "ynew = model.predict(Xnew)\n",
    "# show the inputs and predicted outputs\n",
    "for i in range(len(Xnew)):\n",
    "\tprint(\"X=%s, Predicted=%s\" % (Xnew[i], ynew[i]))"
   ]
  },
  {
   "cell_type": "code",
   "execution_count": null,
   "id": "2ba5e9fb",
   "metadata": {},
   "outputs": [],
   "source": [
    "import numpy as np\n",
    "import pandas as pd\n",
    "import matplotlib.pyplot as plt\n",
    "%matplotlib inline\n",
    "from sklearn.metrics import accuracy_score\n",
    "from sklearn.linear_model import LinearRegression\n",
    "\n",
    "df=pd.read_excel(\"Sugarcane_Dataset_excel.xlsx\")\n",
    "dp=pd.DataFrame(df)\n",
    "x=dp.iloc[:,7].values.reshape(-1,1)\n",
    "y=dp.iloc[:,8].values.reshape(-1,1)\n",
    "\n",
    "lr=LinearRegression()\n",
    "model=lr.fit(x,y)\n",
    "m=model.intercept_\n",
    "n=model.coef_\n",
    "print(\"y_intercept\",model.intercept_)\n",
    "print(\"Regression Coefficient\",model.coef_)#6634\n",
    "# n=int(input(\"Enter the area :\"))\n",
    "y_pred=n*x+m\n",
    "y_pred=model.predict([[1339]])\n",
    "print(y_pred)\n"
   ]
  },
  {
   "cell_type": "code",
   "execution_count": null,
   "id": "4b56aa17",
   "metadata": {},
   "outputs": [],
   "source": [
    "import pandas as pd\n",
    "from sklearn import linear_model\n",
    "from sklearn.metrics import mean_squared_error,r2_score\n",
    "df=pd.read_excel(\"Sugarcane_Dataset_excel.xlsx\")\n",
    "from sklearn.model_selection import train_test_split\n",
    "# y=df.sugar_from_1000\n",
    "x=df.iloc[:,7].values.reshape(-1,1)\n",
    "y=df.iloc[:,10].values.reshape(-1,1)\n",
    "z=df.iloc[:,8].values.reshape(-1,1)\n",
    "x_train,x_test,y_train,y_test=train_test_split(x,y,test_size = 0.2)\n",
    "x_t,x_t,y_t,y_t=train_test_split(x,z,test_size = 0.2)\n",
    "\n",
    "\n",
    "model1=linear_model.LinearRegression()\n",
    "model1.fit(x_train,y_train)\n",
    "y_pred=model1.predict([[10586]])\n",
    "\n",
    "model2=linear_model.LinearRegression()\n",
    "model2.fit(x_t,y_t)\n",
    "y_predict=model2.predict([[10586]])\n",
    "# if y_pred>0:\n",
    "#     print(y_predict)\n",
    "# else:\n",
    "#     print(-y_predict)\n",
    "print(\"Amount of SUGAR produced\",int(y_predict),\".\")\n",
    "print(\"Amount of MOLLASES produced\",int(y_pred),\".\")"
   ]
  },
  {
   "cell_type": "code",
   "execution_count": null,
   "id": "91555fc4",
   "metadata": {},
   "outputs": [],
   "source": []
  },
  {
   "cell_type": "code",
   "execution_count": null,
   "id": "ee1f5528",
   "metadata": {},
   "outputs": [],
   "source": []
  }
 ],
 "metadata": {
  "kernelspec": {
   "display_name": "Python 3",
   "language": "python",
   "name": "python3"
  },
  "language_info": {
   "codemirror_mode": {
    "name": "ipython",
    "version": 3
   },
   "file_extension": ".py",
   "mimetype": "text/x-python",
   "name": "python",
   "nbconvert_exporter": "python",
   "pygments_lexer": "ipython3",
   "version": "3.8.8"
  }
 },
 "nbformat": 4,
 "nbformat_minor": 5
}
